{
 "cells": [
  {
   "cell_type": "code",
   "execution_count": 1,
   "id": "ced7cf1f",
   "metadata": {},
   "outputs": [],
   "source": [
    "import pandas as pd"
   ]
  },
  {
   "cell_type": "code",
   "execution_count": 2,
   "id": "c82d4183",
   "metadata": {},
   "outputs": [
    {
     "data": {
      "text/html": [
       "<div>\n",
       "<style scoped>\n",
       "    .dataframe tbody tr th:only-of-type {\n",
       "        vertical-align: middle;\n",
       "    }\n",
       "\n",
       "    .dataframe tbody tr th {\n",
       "        vertical-align: top;\n",
       "    }\n",
       "\n",
       "    .dataframe thead th {\n",
       "        text-align: right;\n",
       "    }\n",
       "</style>\n",
       "<table border=\"1\" class=\"dataframe\">\n",
       "  <thead>\n",
       "    <tr style=\"text-align: right;\">\n",
       "      <th></th>\n",
       "      <th>Tipo</th>\n",
       "      <th>Bairro</th>\n",
       "      <th>Quartos</th>\n",
       "      <th>Vagas</th>\n",
       "      <th>Suites</th>\n",
       "      <th>Area</th>\n",
       "      <th>Valor</th>\n",
       "      <th>Condominio</th>\n",
       "      <th>IPTU</th>\n",
       "    </tr>\n",
       "  </thead>\n",
       "  <tbody>\n",
       "    <tr>\n",
       "      <th>0</th>\n",
       "      <td>Quitinete</td>\n",
       "      <td>Copacabana</td>\n",
       "      <td>1</td>\n",
       "      <td>0</td>\n",
       "      <td>0</td>\n",
       "      <td>40</td>\n",
       "      <td>1700.0</td>\n",
       "      <td>500.0</td>\n",
       "      <td>60.0</td>\n",
       "    </tr>\n",
       "    <tr>\n",
       "      <th>1</th>\n",
       "      <td>Casa</td>\n",
       "      <td>Jardim Botânico</td>\n",
       "      <td>2</td>\n",
       "      <td>0</td>\n",
       "      <td>1</td>\n",
       "      <td>100</td>\n",
       "      <td>7000.0</td>\n",
       "      <td>NaN</td>\n",
       "      <td>NaN</td>\n",
       "    </tr>\n",
       "    <tr>\n",
       "      <th>2</th>\n",
       "      <td>Conjunto Comercial/Sala</td>\n",
       "      <td>Barra da Tijuca</td>\n",
       "      <td>0</td>\n",
       "      <td>4</td>\n",
       "      <td>0</td>\n",
       "      <td>150</td>\n",
       "      <td>5200.0</td>\n",
       "      <td>4020.0</td>\n",
       "      <td>1111.0</td>\n",
       "    </tr>\n",
       "    <tr>\n",
       "      <th>3</th>\n",
       "      <td>Apartamento</td>\n",
       "      <td>Centro</td>\n",
       "      <td>1</td>\n",
       "      <td>0</td>\n",
       "      <td>0</td>\n",
       "      <td>15</td>\n",
       "      <td>800.0</td>\n",
       "      <td>390.0</td>\n",
       "      <td>20.0</td>\n",
       "    </tr>\n",
       "    <tr>\n",
       "      <th>4</th>\n",
       "      <td>Apartamento</td>\n",
       "      <td>Higienópolis</td>\n",
       "      <td>1</td>\n",
       "      <td>0</td>\n",
       "      <td>0</td>\n",
       "      <td>48</td>\n",
       "      <td>800.0</td>\n",
       "      <td>230.0</td>\n",
       "      <td>NaN</td>\n",
       "    </tr>\n",
       "  </tbody>\n",
       "</table>\n",
       "</div>"
      ],
      "text/plain": [
       "                      Tipo           Bairro  Quartos  Vagas  Suites  Area  \\\n",
       "0                Quitinete       Copacabana        1      0       0    40   \n",
       "1                     Casa  Jardim Botânico        2      0       1   100   \n",
       "2  Conjunto Comercial/Sala  Barra da Tijuca        0      4       0   150   \n",
       "3              Apartamento           Centro        1      0       0    15   \n",
       "4              Apartamento     Higienópolis        1      0       0    48   \n",
       "\n",
       "    Valor  Condominio    IPTU  \n",
       "0  1700.0       500.0    60.0  \n",
       "1  7000.0         NaN     NaN  \n",
       "2  5200.0      4020.0  1111.0  \n",
       "3   800.0       390.0    20.0  \n",
       "4   800.0       230.0     NaN  "
      ]
     },
     "execution_count": 2,
     "metadata": {},
     "output_type": "execute_result"
    }
   ],
   "source": [
    "dados = pd.read_csv('dados/aluguel.csv', sep=';')\n",
    "dados.head()"
   ]
  },
  {
   "cell_type": "code",
   "execution_count": 4,
   "id": "b70ac514",
   "metadata": {},
   "outputs": [],
   "source": [
    "# 1 ou 2 quartos\n",
    "# 3 ou 4 quartos\n",
    "# 5 ou 6 quartos\n",
    "# 7 ou + quartos\n",
    "classes= [0, 2, 4, 6, 100]"
   ]
  },
  {
   "cell_type": "code",
   "execution_count": 6,
   "id": "b06a375a",
   "metadata": {},
   "outputs": [],
   "source": [
    "quartos= pd.cut(dados.Quartos, classes) # Faz cortes de valores"
   ]
  },
  {
   "cell_type": "code",
   "execution_count": 7,
   "id": "e954eba3",
   "metadata": {},
   "outputs": [
    {
     "data": {
      "text/plain": [
       "0        (0, 2]\n",
       "1        (0, 2]\n",
       "2           NaN\n",
       "3        (0, 2]\n",
       "4        (0, 2]\n",
       "5        (2, 4]\n",
       "6        (0, 2]\n",
       "7        (4, 6]\n",
       "8        (0, 2]\n",
       "9           NaN\n",
       "10       (0, 2]\n",
       "11       (0, 2]\n",
       "12       (2, 4]\n",
       "13       (0, 2]\n",
       "14       (0, 2]\n",
       "15       (2, 4]\n",
       "16          NaN\n",
       "17       (2, 4]\n",
       "18       (2, 4]\n",
       "19       (2, 4]\n",
       "20       (0, 2]\n",
       "21       (0, 2]\n",
       "22       (2, 4]\n",
       "23       (2, 4]\n",
       "24       (0, 2]\n",
       "25       (0, 2]\n",
       "26          NaN\n",
       "27       (2, 4]\n",
       "28       (0, 2]\n",
       "29          NaN\n",
       "          ...  \n",
       "32930    (0, 2]\n",
       "32931    (4, 6]\n",
       "32932    (2, 4]\n",
       "32933    (0, 2]\n",
       "32934    (0, 2]\n",
       "32935    (0, 2]\n",
       "32936    (0, 2]\n",
       "32937       NaN\n",
       "32938    (0, 2]\n",
       "32939       NaN\n",
       "32940    (0, 2]\n",
       "32941    (2, 4]\n",
       "32942       NaN\n",
       "32943    (2, 4]\n",
       "32944    (2, 4]\n",
       "32945    (0, 2]\n",
       "32946       NaN\n",
       "32947    (2, 4]\n",
       "32948       NaN\n",
       "32949    (2, 4]\n",
       "32950    (0, 2]\n",
       "32951    (0, 2]\n",
       "32952    (4, 6]\n",
       "32953    (0, 2]\n",
       "32954       NaN\n",
       "32955       NaN\n",
       "32956    (2, 4]\n",
       "32957    (0, 2]\n",
       "32958    (0, 2]\n",
       "32959       NaN\n",
       "Name: Quartos, Length: 32960, dtype: category\n",
       "Categories (4, interval[int64]): [(0, 2] < (2, 4] < (4, 6] < (6, 100]]"
      ]
     },
     "execution_count": 7,
     "metadata": {},
     "output_type": "execute_result"
    }
   ],
   "source": [
    "quartos"
   ]
  },
  {
   "cell_type": "code",
   "execution_count": 8,
   "id": "b33faf45",
   "metadata": {},
   "outputs": [
    {
     "data": {
      "text/plain": [
       "(0, 2]      12419\n",
       "(2, 4]       9894\n",
       "(4, 6]        709\n",
       "(6, 100]       87\n",
       "Name: Quartos, dtype: int64"
      ]
     },
     "execution_count": 8,
     "metadata": {},
     "output_type": "execute_result"
    }
   ],
   "source": [
    "pd.value_counts(quartos)"
   ]
  },
  {
   "cell_type": "code",
   "execution_count": 9,
   "id": "112b9d14",
   "metadata": {},
   "outputs": [],
   "source": [
    "labels= ['1 e 2 quartos','3 e 4 quartos','5 e 6 quartos','7 e + quartos']"
   ]
  },
  {
   "cell_type": "code",
   "execution_count": 12,
   "id": "5bbb46ec",
   "metadata": {},
   "outputs": [],
   "source": [
    "quartos= pd.cut(dados.Quartos, classes, labels=labels)"
   ]
  },
  {
   "cell_type": "code",
   "execution_count": 13,
   "id": "0377bab1",
   "metadata": {},
   "outputs": [
    {
     "data": {
      "text/plain": [
       "1 e 2 quartos    12419\n",
       "3 e 4 quartos     9894\n",
       "5 e 6 quartos      709\n",
       "7 e + quartos       87\n",
       "Name: Quartos, dtype: int64"
      ]
     },
     "execution_count": 13,
     "metadata": {},
     "output_type": "execute_result"
    }
   ],
   "source": [
    "pd.value_counts(quartos)"
   ]
  },
  {
   "cell_type": "code",
   "execution_count": null,
   "id": "2d9d909c",
   "metadata": {},
   "outputs": [],
   "source": []
  }
 ],
 "metadata": {
  "kernelspec": {
   "display_name": "Python 3",
   "language": "python",
   "name": "python3"
  },
  "language_info": {
   "codemirror_mode": {
    "name": "ipython",
    "version": 3
   },
   "file_extension": ".py",
   "mimetype": "text/x-python",
   "name": "python",
   "nbconvert_exporter": "python",
   "pygments_lexer": "ipython3",
   "version": "3.6.13"
  }
 },
 "nbformat": 4,
 "nbformat_minor": 5
}
